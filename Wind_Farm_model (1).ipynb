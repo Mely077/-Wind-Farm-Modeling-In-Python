{
 "cells": [
  {
   "cell_type": "code",
   "execution_count": 3,
   "id": "7c339111-920e-4a85-8864-b4e32e3ce495",
   "metadata": {},
   "outputs": [
    {
     "name": "stdout",
     "output_type": "stream",
     "text": [
      "Requirement already satisfied: windpowerlib in c:\\users\\akmel\\anaconda3\\lib\\site-packages (0.2.2)\n",
      "Requirement already satisfied: pandas in c:\\users\\akmel\\anaconda3\\lib\\site-packages (from windpowerlib) (2.2.2)\n",
      "Requirement already satisfied: requests in c:\\users\\akmel\\anaconda3\\lib\\site-packages (from windpowerlib) (2.32.3)\n",
      "Requirement already satisfied: numpy>=1.26.0 in c:\\users\\akmel\\anaconda3\\lib\\site-packages (from pandas->windpowerlib) (1.26.4)\n",
      "Requirement already satisfied: python-dateutil>=2.8.2 in c:\\users\\akmel\\anaconda3\\lib\\site-packages (from pandas->windpowerlib) (2.9.0.post0)\n",
      "Requirement already satisfied: pytz>=2020.1 in c:\\users\\akmel\\anaconda3\\lib\\site-packages (from pandas->windpowerlib) (2024.1)\n",
      "Requirement already satisfied: tzdata>=2022.7 in c:\\users\\akmel\\anaconda3\\lib\\site-packages (from pandas->windpowerlib) (2023.3)\n",
      "Requirement already satisfied: charset-normalizer<4,>=2 in c:\\users\\akmel\\anaconda3\\lib\\site-packages (from requests->windpowerlib) (3.3.2)\n",
      "Requirement already satisfied: idna<4,>=2.5 in c:\\users\\akmel\\anaconda3\\lib\\site-packages (from requests->windpowerlib) (3.7)\n",
      "Requirement already satisfied: urllib3<3,>=1.21.1 in c:\\users\\akmel\\anaconda3\\lib\\site-packages (from requests->windpowerlib) (2.2.3)\n",
      "Requirement already satisfied: certifi>=2017.4.17 in c:\\users\\akmel\\anaconda3\\lib\\site-packages (from requests->windpowerlib) (2025.1.31)\n",
      "Requirement already satisfied: six>=1.5 in c:\\users\\akmel\\anaconda3\\lib\\site-packages (from python-dateutil>=2.8.2->pandas->windpowerlib) (1.16.0)\n"
     ]
    }
   ],
   "source": [
    "!pip install windpowerlib"
   ]
  },
  {
   "cell_type": "code",
   "execution_count": 73,
   "id": "dd8af1c9-3ab4-4e40-8097-adbd95fcbbcd",
   "metadata": {},
   "outputs": [],
   "source": [
    "import pandas as pd\n",
    "import matplotlib.pyplot as plt\n",
    "from windpowerlib import data as wt\n",
    "from windpowerlib import turbine_cluster_modelchain,WindTurbine,WindFarm\n",
    "\n",
    "\n"
   ]
  },
  {
   "cell_type": "code",
   "execution_count": 75,
   "id": "83958a12-cfeb-4621-a4db-4885eb838dee",
   "metadata": {},
   "outputs": [
    {
     "name": "stderr",
     "output_type": "stream",
     "text": [
      "C:\\Users\\akmel\\AppData\\Local\\Temp\\ipykernel_11828\\896817417.py:1: FutureWarning: The argument 'date_parser' is deprecated and will be removed in a future version. Please use 'date_format' instead, or read your data in as 'object' dtype and then call 'to_datetime'.\n",
      "  weather_Data=pd.read_csv('weather_montreal.csv',index_col=0,header=[0,1],date_parser=lambda idx:pd.to_datetime(idx,utc=True))\n"
     ]
    },
    {
     "data": {
      "text/html": [
       "<div>\n",
       "<style scoped>\n",
       "    .dataframe tbody tr th:only-of-type {\n",
       "        vertical-align: middle;\n",
       "    }\n",
       "\n",
       "    .dataframe tbody tr th {\n",
       "        vertical-align: top;\n",
       "    }\n",
       "\n",
       "    .dataframe thead tr th {\n",
       "        text-align: left;\n",
       "    }\n",
       "</style>\n",
       "<table border=\"1\" class=\"dataframe\">\n",
       "  <thead>\n",
       "    <tr>\n",
       "      <th>variable_name</th>\n",
       "      <th>pressure</th>\n",
       "      <th>temperature</th>\n",
       "      <th>wind_speed</th>\n",
       "      <th>roughness_length</th>\n",
       "      <th>temperature</th>\n",
       "      <th>wind_speed</th>\n",
       "    </tr>\n",
       "    <tr>\n",
       "      <th>height</th>\n",
       "      <th>0</th>\n",
       "      <th>2</th>\n",
       "      <th>10</th>\n",
       "      <th>0</th>\n",
       "      <th>10</th>\n",
       "      <th>50</th>\n",
       "    </tr>\n",
       "  </thead>\n",
       "  <tbody>\n",
       "    <tr>\n",
       "      <th>2019-01-01 00:00:00+00:00</th>\n",
       "      <td>99760</td>\n",
       "      <td>273.37</td>\n",
       "      <td>7.11</td>\n",
       "      <td>0.15</td>\n",
       "      <td>273.27</td>\n",
       "      <td>9.85</td>\n",
       "    </tr>\n",
       "    <tr>\n",
       "      <th>2019-01-01 01:00:00+00:00</th>\n",
       "      <td>99480</td>\n",
       "      <td>273.56</td>\n",
       "      <td>6.87</td>\n",
       "      <td>0.15</td>\n",
       "      <td>273.46</td>\n",
       "      <td>10.08</td>\n",
       "    </tr>\n",
       "    <tr>\n",
       "      <th>2019-01-01 02:00:00+00:00</th>\n",
       "      <td>99200</td>\n",
       "      <td>273.58</td>\n",
       "      <td>6.21</td>\n",
       "      <td>0.15</td>\n",
       "      <td>273.48</td>\n",
       "      <td>9.27</td>\n",
       "    </tr>\n",
       "    <tr>\n",
       "      <th>2019-01-01 03:00:00+00:00</th>\n",
       "      <td>98910</td>\n",
       "      <td>273.61</td>\n",
       "      <td>3.66</td>\n",
       "      <td>0.15</td>\n",
       "      <td>273.51</td>\n",
       "      <td>6.51</td>\n",
       "    </tr>\n",
       "    <tr>\n",
       "      <th>2019-01-01 04:00:00+00:00</th>\n",
       "      <td>98760</td>\n",
       "      <td>273.58</td>\n",
       "      <td>1.26</td>\n",
       "      <td>0.15</td>\n",
       "      <td>273.48</td>\n",
       "      <td>2.28</td>\n",
       "    </tr>\n",
       "    <tr>\n",
       "      <th>...</th>\n",
       "      <td>...</td>\n",
       "      <td>...</td>\n",
       "      <td>...</td>\n",
       "      <td>...</td>\n",
       "      <td>...</td>\n",
       "      <td>...</td>\n",
       "    </tr>\n",
       "    <tr>\n",
       "      <th>2019-12-31 19:00:00+00:00</th>\n",
       "      <td>99430</td>\n",
       "      <td>271.17</td>\n",
       "      <td>2.39</td>\n",
       "      <td>0.15</td>\n",
       "      <td>271.07</td>\n",
       "      <td>3.93</td>\n",
       "    </tr>\n",
       "    <tr>\n",
       "      <th>2019-12-31 20:00:00+00:00</th>\n",
       "      <td>99400</td>\n",
       "      <td>271.35</td>\n",
       "      <td>2.59</td>\n",
       "      <td>0.15</td>\n",
       "      <td>271.25</td>\n",
       "      <td>4.69</td>\n",
       "    </tr>\n",
       "    <tr>\n",
       "      <th>2019-12-31 21:00:00+00:00</th>\n",
       "      <td>99370</td>\n",
       "      <td>271.69</td>\n",
       "      <td>3.28</td>\n",
       "      <td>0.15</td>\n",
       "      <td>271.59</td>\n",
       "      <td>6.39</td>\n",
       "    </tr>\n",
       "    <tr>\n",
       "      <th>2019-12-31 22:00:00+00:00</th>\n",
       "      <td>99330</td>\n",
       "      <td>271.94</td>\n",
       "      <td>4.69</td>\n",
       "      <td>0.15</td>\n",
       "      <td>271.84</td>\n",
       "      <td>7.71</td>\n",
       "    </tr>\n",
       "    <tr>\n",
       "      <th>2019-12-31 23:00:00+00:00</th>\n",
       "      <td>99290</td>\n",
       "      <td>271.67</td>\n",
       "      <td>4.75</td>\n",
       "      <td>0.15</td>\n",
       "      <td>271.57</td>\n",
       "      <td>7.56</td>\n",
       "    </tr>\n",
       "  </tbody>\n",
       "</table>\n",
       "<p>8760 rows × 6 columns</p>\n",
       "</div>"
      ],
      "text/plain": [
       "variable_name             pressure temperature wind_speed roughness_length  \\\n",
       "height                           0           2         10                0   \n",
       "2019-01-01 00:00:00+00:00    99760      273.37       7.11             0.15   \n",
       "2019-01-01 01:00:00+00:00    99480      273.56       6.87             0.15   \n",
       "2019-01-01 02:00:00+00:00    99200      273.58       6.21             0.15   \n",
       "2019-01-01 03:00:00+00:00    98910      273.61       3.66             0.15   \n",
       "2019-01-01 04:00:00+00:00    98760      273.58       1.26             0.15   \n",
       "...                            ...         ...        ...              ...   \n",
       "2019-12-31 19:00:00+00:00    99430      271.17       2.39             0.15   \n",
       "2019-12-31 20:00:00+00:00    99400      271.35       2.59             0.15   \n",
       "2019-12-31 21:00:00+00:00    99370      271.69       3.28             0.15   \n",
       "2019-12-31 22:00:00+00:00    99330      271.94       4.69             0.15   \n",
       "2019-12-31 23:00:00+00:00    99290      271.67       4.75             0.15   \n",
       "\n",
       "variable_name             temperature wind_speed  \n",
       "height                             10         50  \n",
       "2019-01-01 00:00:00+00:00      273.27       9.85  \n",
       "2019-01-01 01:00:00+00:00      273.46      10.08  \n",
       "2019-01-01 02:00:00+00:00      273.48       9.27  \n",
       "2019-01-01 03:00:00+00:00      273.51       6.51  \n",
       "2019-01-01 04:00:00+00:00      273.48       2.28  \n",
       "...                               ...        ...  \n",
       "2019-12-31 19:00:00+00:00      271.07       3.93  \n",
       "2019-12-31 20:00:00+00:00      271.25       4.69  \n",
       "2019-12-31 21:00:00+00:00      271.59       6.39  \n",
       "2019-12-31 22:00:00+00:00      271.84       7.71  \n",
       "2019-12-31 23:00:00+00:00      271.57       7.56  \n",
       "\n",
       "[8760 rows x 6 columns]"
      ]
     },
     "execution_count": 75,
     "metadata": {},
     "output_type": "execute_result"
    }
   ],
   "source": [
    "weather_Data=pd.read_csv('weather_montreal.csv',index_col=0,header=[0,1],date_parser=lambda idx:pd.to_datetime(idx,utc=True))\n",
    "weather_Data"
   ]
  },
  {
   "cell_type": "markdown",
   "id": "97f32f9b-2869-4411-9f98-eea9343e632d",
   "metadata": {},
   "source": [
    "Wind Turbine selection"
   ]
  },
  {
   "cell_type": "code",
   "execution_count": 69,
   "id": "0c671242-f40e-421f-ad9b-4a8de9695511",
   "metadata": {},
   "outputs": [
    {
     "name": "stderr",
     "output_type": "stream",
     "text": [
      "C:\\Users\\akmel\\anaconda3\\Lib\\site-packages\\windpowerlib\\data.py:103: FutureWarning: Downcasting object dtype arrays on .fillna, .ffill, .bfill is deprecated and will change in a future version. Call result.infer_objects(copy=False) instead. To opt-in to the future behavior, set `pd.set_option('future.no_silent_downcasting', True)`\n",
      "  ).fillna(False)\n"
     ]
    }
   ],
   "source": [
    "Turbine_lib=wt.get_turbine_types(print_out=False)\n",
    "Turbine_lib "
   ]
  },
  {
   "cell_type": "code",
   "execution_count": 71,
   "id": "20306c74-c1e3-49ce-a7cc-0afa0594b0df",
   "metadata": {},
   "outputs": [
    {
     "name": "stderr",
     "output_type": "stream",
     "text": [
      "C:\\Users\\akmel\\anaconda3\\Lib\\site-packages\\windpowerlib\\data.py:103: FutureWarning: Downcasting object dtype arrays on .fillna, .ffill, .bfill is deprecated and will change in a future version. Call result.infer_objects(copy=False) instead. To opt-in to the future behavior, set `pd.set_option('future.no_silent_downcasting', True)`\n",
      "  ).fillna(False)\n"
     ]
    },
    {
     "data": {
      "text/html": [
       "<div>\n",
       "<style scoped>\n",
       "    .dataframe tbody tr th:only-of-type {\n",
       "        vertical-align: middle;\n",
       "    }\n",
       "\n",
       "    .dataframe tbody tr th {\n",
       "        vertical-align: top;\n",
       "    }\n",
       "\n",
       "    .dataframe thead th {\n",
       "        text-align: right;\n",
       "    }\n",
       "</style>\n",
       "<table border=\"1\" class=\"dataframe\">\n",
       "  <thead>\n",
       "    <tr style=\"text-align: right;\">\n",
       "      <th></th>\n",
       "      <th>manufacturer</th>\n",
       "      <th>turbine_type</th>\n",
       "      <th>has_power_curve</th>\n",
       "      <th>has_cp_curve</th>\n",
       "    </tr>\n",
       "  </thead>\n",
       "  <tbody>\n",
       "    <tr>\n",
       "      <th>0</th>\n",
       "      <td>Adwen/Areva</td>\n",
       "      <td>AD116/5000</td>\n",
       "      <td>True</td>\n",
       "      <td>False</td>\n",
       "    </tr>\n",
       "    <tr>\n",
       "      <th>1</th>\n",
       "      <td>Enercon</td>\n",
       "      <td>E-101/3050</td>\n",
       "      <td>True</td>\n",
       "      <td>True</td>\n",
       "    </tr>\n",
       "    <tr>\n",
       "      <th>2</th>\n",
       "      <td>Enercon</td>\n",
       "      <td>E-101/3500</td>\n",
       "      <td>True</td>\n",
       "      <td>True</td>\n",
       "    </tr>\n",
       "    <tr>\n",
       "      <th>3</th>\n",
       "      <td>Enercon</td>\n",
       "      <td>E-115/3000</td>\n",
       "      <td>True</td>\n",
       "      <td>True</td>\n",
       "    </tr>\n",
       "    <tr>\n",
       "      <th>4</th>\n",
       "      <td>Enercon</td>\n",
       "      <td>E-115/3200</td>\n",
       "      <td>True</td>\n",
       "      <td>True</td>\n",
       "    </tr>\n",
       "    <tr>\n",
       "      <th>...</th>\n",
       "      <td>...</td>\n",
       "      <td>...</td>\n",
       "      <td>...</td>\n",
       "      <td>...</td>\n",
       "    </tr>\n",
       "    <tr>\n",
       "      <th>62</th>\n",
       "      <td>Vestas</td>\n",
       "      <td>V80/2000</td>\n",
       "      <td>True</td>\n",
       "      <td>False</td>\n",
       "    </tr>\n",
       "    <tr>\n",
       "      <th>63</th>\n",
       "      <td>Vestas</td>\n",
       "      <td>V90/2000</td>\n",
       "      <td>True</td>\n",
       "      <td>True</td>\n",
       "    </tr>\n",
       "    <tr>\n",
       "      <th>64</th>\n",
       "      <td>Vestas</td>\n",
       "      <td>V90/2000/GS</td>\n",
       "      <td>True</td>\n",
       "      <td>True</td>\n",
       "    </tr>\n",
       "    <tr>\n",
       "      <th>65</th>\n",
       "      <td>Vestas</td>\n",
       "      <td>V90/3000</td>\n",
       "      <td>True</td>\n",
       "      <td>False</td>\n",
       "    </tr>\n",
       "    <tr>\n",
       "      <th>66</th>\n",
       "      <td>aerodyn</td>\n",
       "      <td>SCD168/8000</td>\n",
       "      <td>True</td>\n",
       "      <td>False</td>\n",
       "    </tr>\n",
       "  </tbody>\n",
       "</table>\n",
       "<p>67 rows × 4 columns</p>\n",
       "</div>"
      ],
      "text/plain": [
       "   manufacturer turbine_type  has_power_curve  has_cp_curve\n",
       "0   Adwen/Areva   AD116/5000             True         False\n",
       "1       Enercon   E-101/3050             True          True\n",
       "2       Enercon   E-101/3500             True          True\n",
       "3       Enercon   E-115/3000             True          True\n",
       "4       Enercon   E-115/3200             True          True\n",
       "..          ...          ...              ...           ...\n",
       "62       Vestas     V80/2000             True         False\n",
       "63       Vestas     V90/2000             True          True\n",
       "64       Vestas  V90/2000/GS             True          True\n",
       "65       Vestas     V90/3000             True         False\n",
       "66      aerodyn  SCD168/8000             True         False\n",
       "\n",
       "[67 rows x 4 columns]"
      ]
     },
     "execution_count": 71,
     "metadata": {},
     "output_type": "execute_result"
    }
   ],
   "source": [
    "Turbine_lib = wt.get_turbine_types(print_out=False)\n",
    "Turbine_lib = Turbine_lib.infer_objects(copy=False)\n",
    "Turbine_lib\n"
   ]
  },
  {
   "cell_type": "code",
   "execution_count": 53,
   "id": "f0f53270-d1de-4e5e-a1ac-6159de5203d1",
   "metadata": {},
   "outputs": [],
   "source": [
    "selected_turbine= {'turbine_type':'E48/800','hub_height':60} \n",
    "W_Turbine = WindTurbine(**selected_turbine)"
   ]
  },
  {
   "cell_type": "code",
   "execution_count": 63,
   "id": "ebe79ce5-2c4e-42ee-9e44-916ccc05e3ce",
   "metadata": {},
   "outputs": [],
   "source": [
    "##wind_turbine_fleet= pd.DataFrame({'wind_turbine':[W_Turbine,None],\n",
    "                                  #'number_of_turbines':[10,None],})\n",
    "farm_data ={\n",
    "             'wind_turbine_fleet':[W_Turbine.to_group(10)],\n",
    "             'efficiency':0.9\n",
    "}\n",
    "farm_data1  =WindFarm(**farm_data)\n",
    "\n",
    "Wind_farm_Sub_Model={'wake_losses_model':'wind_farm_efficiency',\n",
    "                      'smoothing':True,\n",
    "                      'standard_deviation_method':'turbulence_intensity', ##'staffel_pfenniger'\n",
    "                      'wind_speed_model':'hellman',                       ##'hellman'\n",
    "                                                                          ##'logarithmic'\n",
    "                                                                          ##'interpolation-extrapolation'\n",
    "                    'density_model':'ideal_gas',                          ##'barometric'\n",
    "                                                                          ##'interpolation-extrapolation'\n",
    "                    'temperature_model':'linear_gradient',                ##'interpolation-extrapolation'\n",
    "                    'power_output_model':'power_curve',\n",
    "                    'density_correction':True,\n",
    "                    'obstacle_height':0,\n",
    "                    'hellman_exp':0.25\n",
    "                   }\n"
   ]
  },
  {
   "cell_type": "code",
   "execution_count": 65,
   "id": "74bfbb5e-ccb1-4324-ba18-3e1667e96f4e",
   "metadata": {},
   "outputs": [
    {
     "data": {
      "text/plain": [
       "2019-01-01 00:00:00+00:00    5143.800555\n",
       "2019-01-01 01:00:00+00:00    5336.078841\n",
       "2019-01-01 02:00:00+00:00    4558.117848\n",
       "2019-01-01 03:00:00+00:00    1690.422179\n",
       "2019-01-01 04:00:00+00:00      30.979601\n",
       "                                ...     \n",
       "2019-12-31 19:00:00+00:00     317.855421\n",
       "2019-12-31 20:00:00+00:00     586.182770\n",
       "2019-12-31 21:00:00+00:00    1620.965002\n",
       "2019-12-31 22:00:00+00:00    2868.697185\n",
       "2019-12-31 23:00:00+00:00    2702.217165\n",
       "Name: feedin_power_plant, Length: 8760, dtype: float64"
      ]
     },
     "execution_count": 65,
     "metadata": {},
     "output_type": "execute_result"
    }
   ],
   "source": [
    "Model_Farm = TurbineClusterModelChain(farm_data1,**Wind_farm_Sub_Model).run_model(weather_Data)\n",
    "Farm_Power_Output =(Model_Farm.power_output)/1000\n",
    "Farm_Power_Output"
   ]
  },
  {
   "cell_type": "code",
   "execution_count": 67,
   "id": "47111349-6a6e-4c11-beb2-4bd4f9ee7cf2",
   "metadata": {},
   "outputs": [
    {
     "data": {
      "image/png": "[encoded data removed]",
      "text/plain": [
       "<Figure size 640x480 with 1 Axes>"
      ]
     },
     "metadata": {},
     "output_type": "display_data"
    }
   ],
   "source": [
    "plt.plot(Farm_Power_Output,color ='b')\n",
    "plt.xlabel('Date')\n",
    "plt.ylabel('Power -KW')\n",
    "plt.show()"
   ]
  },
  {
   "cell_type": "code",
   "execution_count": null,
   "id": "60a3ef7c-37b2-4a2c-9ef7-c7901ee9f036",
   "metadata": {},
   "outputs": [],
   "source": [
    "\n"
   ]
  }
 ],
 "metadata": {
  "kernelspec": {
   "display_name": "Python [conda env:base] *",
   "language": "python",
   "name": "conda-base-py"
  },
  "language_info": {
   "codemirror_mode": {
    "name": "ipython",
    "version": 3
   },
   "file_extension": ".py",
   "mimetype": "text/x-python",
   "name": "python",
   "nbconvert_exporter": "python",
   "pygments_lexer": "ipython3",
   "version": "3.12.7"
  }
 },
 "nbformat": 4,
 "nbformat_minor": 5
}
